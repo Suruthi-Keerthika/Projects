{
 "cells": [
  {
   "cell_type": "code",
   "execution_count": 28,
   "id": "e6401e5f-6f96-444f-9a5e-c49a224df154",
   "metadata": {},
   "outputs": [
    {
     "name": "stdout",
     "output_type": "stream",
     "text": [
      "[10 20 30 40 50]\n",
      "[[0. 0. 0.]\n",
      " [0. 0. 0.]]\n",
      "[[1. 1.]]\n",
      "[1.         1.44444444 1.88888889 2.33333333 2.77777778 3.22222222\n",
      " 3.66666667 4.11111111 4.55555556 5.        ]\n"
     ]
    },
    {
     "data": {
      "text/plain": [
       "array([10, 20, 30, 40, 50])"
      ]
     },
     "execution_count": 28,
     "metadata": {},
     "output_type": "execute_result"
    }
   ],
   "source": [
    "import numpy as np\n",
    "a = np.array([10, 20, 30, 40,50])\n",
    "print(a)\n",
    "print(np.zeros((2,3)))\n",
    "print(np.ones((1,2)))\n",
    "print(np.linspace(1,5,10))\n",
    "a"
   ]
  },
  {
   "cell_type": "code",
   "execution_count": 29,
   "id": "330e1127-6178-4128-8a22-e7f78d510334",
   "metadata": {},
   "outputs": [
    {
     "name": "stdout",
     "output_type": "stream",
     "text": [
      "int32\n",
      "(5,)\n",
      "5\n",
      "1\n"
     ]
    }
   ],
   "source": [
    "print(a.dtype)\n",
    "print(a.shape)\n",
    "print(a.size)\n",
    "print(a.ndim)"
   ]
  },
  {
   "cell_type": "code",
   "execution_count": 42,
   "id": "4e5bc38b-f8fb-4f0b-9e8b-c95ce0d31679",
   "metadata": {},
   "outputs": [
    {
     "name": "stdout",
     "output_type": "stream",
     "text": [
      "[1 2 3 4 5]\n",
      "[11 22 33 44 55]\n",
      "[ 10  40  90 160 250]\n",
      "[3.16227766 4.47213595 5.47722558 6.32455532 7.07106781]\n",
      "[  2.71828183   7.3890561   20.08553692  54.59815003 148.4131591 ]\n",
      "[0.         0.69314718 1.09861229 1.38629436 1.60943791]\n"
     ]
    }
   ],
   "source": [
    "x=np.arange(1,6)\n",
    "print(x)\n",
    "print(np.add(a,x))\n",
    "print(np.multiply(a,x))\n",
    "print(np.sqrt(a))\n",
    "print(np.exp(x))\n",
    "print(np.log(x))"
   ]
  },
  {
   "cell_type": "code",
   "execution_count": 45,
   "id": "f82378f5-3a8b-4ed5-a4b7-ce4a48762516",
   "metadata": {},
   "outputs": [
    {
     "name": "stdout",
     "output_type": "stream",
     "text": [
      "30.0\n",
      "30.0\n",
      "14.142135623730951\n",
      "200.0\n",
      "150\n",
      "10\n",
      "50\n",
      "0\n",
      "4\n"
     ]
    }
   ],
   "source": [
    "print(np.mean(a))\n",
    "print(np.median(a))\n",
    "print(np.std(a))\n",
    "print(np.var(a))\n",
    "print(np.sum(a))\n",
    "print(np.min(a))\n",
    "print(np.max(a))\n",
    "print(np.argmin(x))\n",
    "print(np.argmax(x))"
   ]
  },
  {
   "cell_type": "code",
   "execution_count": 48,
   "id": "30d73e04-cd64-4621-b498-587155047d9e",
   "metadata": {},
   "outputs": [
    {
     "name": "stdout",
     "output_type": "stream",
     "text": [
      "[10 20 30 40 50 60]\n",
      "['Low' 'Low' 'High' 'High' 'High' 'High']\n",
      "['Low' 'Medium' 'Medium' 'High' 'High' 'High']\n",
      "[20 30 40]\n",
      "[10 40 50 60]\n",
      "[ True  True False False False False]\n"
     ]
    }
   ],
   "source": [
    "b=np.arange(10,70,10)\n",
    "print(b)\n",
    "labels=np.where(b>25,'High', 'Low')\n",
    "conditions=[b<15,(b>=15)&(b<35),b>=35]\n",
    "choices=['Low',  'Medium', 'High']\n",
    "result=np.select(conditions, choices, default='Unknown')\n",
    "p=np.logical_and(b>15 , b<45)\n",
    "q=np.logical_or(b<20, b>35)\n",
    "print(labels)\n",
    "print(result)\n",
    "print(b[p])\n",
    "print(b[q])\n",
    "print(np.logical_not(b>25))"
   ]
  },
  {
   "cell_type": "code",
   "execution_count": 55,
   "id": "efa1db4a-afa1-440a-8c26-472c6efb8f7d",
   "metadata": {},
   "outputs": [
    {
     "name": "stdout",
     "output_type": "stream",
     "text": [
      "[[10 20 30]\n",
      " [40 50 60]]\n"
     ]
    },
    {
     "data": {
      "text/plain": [
       "array([10, 20, 30, 40, 50, 60])"
      ]
     },
     "execution_count": 55,
     "metadata": {},
     "output_type": "execute_result"
    }
   ],
   "source": [
    "r=b.reshape((2,3))\n",
    "print(r)\n",
    "r.flatten()"
   ]
  },
  {
   "cell_type": "code",
   "execution_count": 59,
   "id": "703f7827-ef19-47a6-870d-92de81899158",
   "metadata": {},
   "outputs": [
    {
     "name": "stdout",
     "output_type": "stream",
     "text": [
      "[10 20 30]\n",
      "60\n",
      "[[30]]\n"
     ]
    }
   ],
   "source": [
    "print(r[0])\n",
    "print(r[1][2])\n",
    "print(r[0:1,2:])"
   ]
  },
  {
   "cell_type": "code",
   "execution_count": 61,
   "id": "d73a6b2c-7dc6-49c1-9f3c-a75f4d824c0b",
   "metadata": {},
   "outputs": [
    {
     "name": "stdout",
     "output_type": "stream",
     "text": [
      "[[ 1.  2. nan]\n",
      " [ 4. inf  6.]\n",
      " [nan  8.  9.]]\n"
     ]
    }
   ],
   "source": [
    "y=np.array([[1,2,np.nan],[4,np.inf,6],[np.nan,8,9]])\n",
    "print(y)"
   ]
  },
  {
   "cell_type": "code",
   "execution_count": 62,
   "id": "a20876bc-4f65-4830-9dc5-1e0ede81d8c5",
   "metadata": {},
   "outputs": [
    {
     "data": {
      "text/plain": [
       "array([[False, False,  True],\n",
       "       [False, False, False],\n",
       "       [ True, False, False]])"
      ]
     },
     "execution_count": 62,
     "metadata": {},
     "output_type": "execute_result"
    }
   ],
   "source": [
    "np.isnan(y)"
   ]
  },
  {
   "cell_type": "code",
   "execution_count": 63,
   "id": "8b611ee6-763f-4298-9c48-a8f2d59d1a35",
   "metadata": {},
   "outputs": [
    {
     "data": {
      "text/plain": [
       "array([[False, False, False],\n",
       "       [False,  True, False],\n",
       "       [False, False, False]])"
      ]
     },
     "execution_count": 63,
     "metadata": {},
     "output_type": "execute_result"
    }
   ],
   "source": [
    "np.isinf(y)"
   ]
  },
  {
   "cell_type": "code",
   "execution_count": 64,
   "id": "15f3bdaa-2b56-4787-a22b-9ac4c01a88c1",
   "metadata": {},
   "outputs": [
    {
     "data": {
      "text/plain": [
       "array([[ True,  True, False],\n",
       "       [ True, False,  True],\n",
       "       [False,  True,  True]])"
      ]
     },
     "execution_count": 64,
     "metadata": {},
     "output_type": "execute_result"
    }
   ],
   "source": [
    "np.isfinite(y)"
   ]
  },
  {
   "cell_type": "code",
   "execution_count": 67,
   "id": "45d24d80-196d-4ef5-80f2-6dea7975f8e2",
   "metadata": {},
   "outputs": [
    {
     "data": {
      "text/plain": [
       "array([1., 2., 4., 6., 8., 9.])"
      ]
     },
     "execution_count": 67,
     "metadata": {},
     "output_type": "execute_result"
    }
   ],
   "source": [
    "y[np.isfinite(y)]"
   ]
  },
  {
   "cell_type": "code",
   "execution_count": 69,
   "id": "104cc0c2-28a2-401c-b318-4ed681adddfa",
   "metadata": {},
   "outputs": [
    {
     "name": "stdout",
     "output_type": "stream",
     "text": [
      "[[ 1.  2.  0.]\n",
      " [ 4. inf  6.]\n",
      " [ 0.  8.  9.]]\n"
     ]
    }
   ],
   "source": [
    "y[np.isnan(y)]=0\n",
    "print(y)"
   ]
  },
  {
   "cell_type": "code",
   "execution_count": 70,
   "id": "78e570e6-f7ee-49fc-bb92-8231db832d94",
   "metadata": {},
   "outputs": [
    {
     "data": {
      "text/plain": [
       "inf"
      ]
     },
     "execution_count": 70,
     "metadata": {},
     "output_type": "execute_result"
    }
   ],
   "source": [
    "np.nanmean(y)"
   ]
  },
  {
   "cell_type": "code",
   "execution_count": 82,
   "id": "b2d8e87a-3c15-4ce0-a65e-e6596e08865a",
   "metadata": {},
   "outputs": [
    {
     "data": {
      "text/plain": [
       "array([ 1., nan,  3.,  1.,  5.])"
      ]
     },
     "execution_count": 82,
     "metadata": {},
     "output_type": "execute_result"
    }
   ],
   "source": [
    "y=np.array([1,np.nan,3,np.inf,5])\n",
    "y[np.isinf(y)]=np.nanmin(y)\n",
    "y"
   ]
  },
  {
   "cell_type": "code",
   "execution_count": 85,
   "id": "19af9fcc-d221-4ea6-ae9b-763b918f4607",
   "metadata": {},
   "outputs": [
    {
     "data": {
      "text/plain": [
       "array([[ 0.98095339,  0.8600144 ,  0.47698443],\n",
       "       [-0.40090287,  1.29511113, -0.37205465]])"
      ]
     },
     "execution_count": 85,
     "metadata": {},
     "output_type": "execute_result"
    }
   ],
   "source": [
    "np.random.rand(5)"
   ]
  },
  {
   "cell_type": "code",
   "execution_count": 86,
   "id": "7044be61-8bd7-4e2b-8592-f783eb03b628",
   "metadata": {},
   "outputs": [
    {
     "data": {
      "text/plain": [
       "array([[-1.49442527,  0.67294397, -0.3908841 ],\n",
       "       [ 0.23252495, -0.88703927, -0.62453927]])"
      ]
     },
     "execution_count": 86,
     "metadata": {},
     "output_type": "execute_result"
    }
   ],
   "source": [
    "np.random.randn(2,3)"
   ]
  },
  {
   "cell_type": "code",
   "execution_count": 87,
   "id": "8487cdd1-7d2e-4814-9a5c-0a432206aab2",
   "metadata": {},
   "outputs": [
    {
     "data": {
      "text/plain": [
       "5"
      ]
     },
     "execution_count": 87,
     "metadata": {},
     "output_type": "execute_result"
    }
   ],
   "source": [
    "np.random.randint(1,10)"
   ]
  },
  {
   "cell_type": "code",
   "execution_count": 89,
   "id": "13055d7d-7b91-4d57-8bdb-ed5908270efe",
   "metadata": {},
   "outputs": [
    {
     "data": {
      "text/plain": [
       "4"
      ]
     },
     "execution_count": 89,
     "metadata": {},
     "output_type": "execute_result"
    }
   ],
   "source": [
    "arr=np.array([1,2,3,4,5])\n",
    "np.random.choice(arr)"
   ]
  },
  {
   "cell_type": "code",
   "execution_count": 92,
   "id": "6c5c1182-5d02-4e00-be87-4c8bc3517d15",
   "metadata": {},
   "outputs": [
    {
     "data": {
      "text/plain": [
       "array([1, 4, 2, 5, 3])"
      ]
     },
     "execution_count": 92,
     "metadata": {},
     "output_type": "execute_result"
    }
   ],
   "source": [
    "np.random.shuffle(arr)\n",
    "arr"
   ]
  },
  {
   "cell_type": "code",
   "execution_count": 93,
   "id": "951467a5-0069-49d3-bba7-b65ee4a226e1",
   "metadata": {},
   "outputs": [
    {
     "data": {
      "text/plain": [
       "array([[19, 22],\n",
       "       [43, 50]])"
      ]
     },
     "execution_count": 93,
     "metadata": {},
     "output_type": "execute_result"
    }
   ],
   "source": [
    "m1=np.array([[1,2],[3,4]])\n",
    "m2=np.array([[5,6],[7,8]])\n",
    "np.dot(m1,m2)"
   ]
  },
  {
   "cell_type": "code",
   "execution_count": 95,
   "id": "3f19b47f-4641-4a9e-843e-a6b8a368e7dd",
   "metadata": {},
   "outputs": [
    {
     "data": {
      "text/plain": [
       "array([[1, 3],\n",
       "       [2, 4]])"
      ]
     },
     "execution_count": 95,
     "metadata": {},
     "output_type": "execute_result"
    }
   ],
   "source": [
    "m1.T"
   ]
  },
  {
   "cell_type": "code",
   "execution_count": 96,
   "id": "e4de5a0b-cbfe-4215-8d2c-4e787bf5ca79",
   "metadata": {},
   "outputs": [
    {
     "data": {
      "text/plain": [
       "array([[-4. ,  3. ],\n",
       "       [ 3.5, -2.5]])"
      ]
     },
     "execution_count": 96,
     "metadata": {},
     "output_type": "execute_result"
    }
   ],
   "source": [
    "np.linalg.inv(m2)"
   ]
  },
  {
   "cell_type": "code",
   "execution_count": 97,
   "id": "e30c2381-6b53-4ade-9e75-bd137aff868f",
   "metadata": {},
   "outputs": [
    {
     "data": {
      "text/plain": [
       "-2.0000000000000004"
      ]
     },
     "execution_count": 97,
     "metadata": {},
     "output_type": "execute_result"
    }
   ],
   "source": [
    "np.linalg.det(m1)"
   ]
  },
  {
   "cell_type": "code",
   "execution_count": 98,
   "id": "97e123e1-a86b-496d-86a7-8ea0da3f5542",
   "metadata": {},
   "outputs": [
    {
     "data": {
      "text/plain": [
       "2"
      ]
     },
     "execution_count": 98,
     "metadata": {},
     "output_type": "execute_result"
    }
   ],
   "source": [
    "np.linalg.matrix_rank(m1)"
   ]
  },
  {
   "cell_type": "code",
   "execution_count": 100,
   "id": "65c08a0f-d1dc-49ac-b4bd-aed52749a4dc",
   "metadata": {},
   "outputs": [
    {
     "data": {
      "text/plain": [
       "EigResult(eigenvalues=array([-0.15206735, 13.15206735]), eigenvectors=array([[-0.75868086, -0.59276441],\n",
       "       [ 0.65146248, -0.80537591]]))"
      ]
     },
     "execution_count": 100,
     "metadata": {},
     "output_type": "execute_result"
    }
   ],
   "source": [
    "np.linalg.eig(m2)"
   ]
  },
  {
   "cell_type": "code",
   "execution_count": 101,
   "id": "ee1830f2-86a3-4517-989b-d81b5102f570",
   "metadata": {},
   "outputs": [
    {
     "data": {
      "text/plain": [
       "array([[-3., -4.],\n",
       "       [ 4.,  5.]])"
      ]
     },
     "execution_count": 101,
     "metadata": {},
     "output_type": "execute_result"
    }
   ],
   "source": [
    "np.linalg.solve(m1,m2)"
   ]
  }
 ],
 "metadata": {
  "kernelspec": {
   "display_name": "Python 3 (ipykernel)",
   "language": "python",
   "name": "python3"
  },
  "language_info": {
   "codemirror_mode": {
    "name": "ipython",
    "version": 3
   },
   "file_extension": ".py",
   "mimetype": "text/x-python",
   "name": "python",
   "nbconvert_exporter": "python",
   "pygments_lexer": "ipython3",
   "version": "3.12.7"
  }
 },
 "nbformat": 4,
 "nbformat_minor": 5
}
