{
 "cells": [
  {
   "cell_type": "code",
   "execution_count": 8,
   "id": "e97741c7-732f-4056-ae76-5f93bebaa604",
   "metadata": {},
   "outputs": [
    {
     "name": "stdout",
     "output_type": "stream",
     "text": [
      "['Low' 'Low' 'High' 'High' 'High']\n",
      "['Low' 'Medium' 'Medium' 'High' 'High']\n",
      "[20 30 40]\n",
      "[10 40 50]\n",
      "[ True  True False False False]\n"
     ]
    }
   ],
   "source": [
    "import numpy as np\n",
    "a=np.array([10,20,30,40,50])\n",
    "labels=np.where(a>25,'High', 'Low')\n",
    "conditions=[a<15,(a>=15)&(a<35),a>=35]\n",
    "choices=['Low',  'Medium', 'High']\n",
    "result=np.select(conditions, choices, default='Unknown')\n",
    "x=np.logical_and(a>15 , a<45)\n",
    "y=np.logical_or(a<20, a>35)\n",
    "print(labels)\n",
    "print(result)\n",
    "print(a[x])\n",
    "print(a[y])\n",
    "print(np.logical_not(a>25))"
   ]
  }
 ],
 "metadata": {
  "kernelspec": {
   "display_name": "Python 3 (ipykernel)",
   "language": "python",
   "name": "python3"
  },
  "language_info": {
   "codemirror_mode": {
    "name": "ipython",
    "version": 3
   },
   "file_extension": ".py",
   "mimetype": "text/x-python",
   "name": "python",
   "nbconvert_exporter": "python",
   "pygments_lexer": "ipython3",
   "version": "3.12.7"
  }
 },
 "nbformat": 4,
 "nbformat_minor": 5
}
